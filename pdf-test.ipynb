{
 "cells": [
  {
   "cell_type": "code",
   "execution_count": 3,
   "metadata": {},
   "outputs": [],
   "source": [
    "import torch\n",
    "from scipy.stats import multivariate_normal\n",
    "import numpy as np\n",
    "from tqdm import tqdm\n",
    "from sklearn.decomposition import PCA\n",
    "from sklearn.neighbors import BallTree\n",
    "from dciknn_cuda import DCI, MDCI\n",
    "\n",
    "\n",
    "import matplotlib.pyplot as plt\n",
    "%matplotlib inline\n",
    "\n",
    "def normalize_2nd_moment(x, dim=1, eps=1e-8):\n",
    "    x = torch.from_numpy(x)\n",
    "    yo = x * (x.square().mean(dim=dim, keepdim=True) + eps).rsqrt()\n",
    "    yo = yo.numpy()\n",
    "    return yo\n",
    "\n"
   ]
  },
  {
   "cell_type": "code",
   "execution_count": 4,
   "metadata": {},
   "outputs": [
    {
     "name": "stdout",
     "output_type": "stream",
     "text": [
      "-1456.2075849246532\n"
     ]
    }
   ],
   "source": [
    "d = 1024\n",
    "mu = np.zeros(d)  # mean\n",
    "covariance_matrix = np.eye(d)  # covariance matrix\n",
    "z = np.random.normal(0,1,(100,d)) # sample\n",
    "pdf_values = multivariate_normal.logpdf(z, mean=mu, cov=covariance_matrix)\n",
    "print(pdf_values.mean())\n"
   ]
  },
  {
   "cell_type": "code",
   "execution_count": 6,
   "metadata": {},
   "outputs": [
    {
     "name": "stdout",
     "output_type": "stream",
     "text": [
      "31.720066\n"
     ]
    }
   ],
   "source": [
    "a = torch.load(\"./new-vanilla-results/ffhq-og-no-snoise-10ff/train/latent/0-0.npy\").numpy()\n",
    "lolo = np.linalg.norm(a, axis=1)\n",
    "print(lolo.mean())"
   ]
  },
  {
   "cell_type": "code",
   "execution_count": 18,
   "metadata": {},
   "outputs": [],
   "source": [
    "dci_db = MDCI(1024, 2, 7)\n",
    "\n",
    "\n",
    "def pdf_test(directory):\n",
    "    mean = []\n",
    "    for i in tqdm(range(10000,15000,1)):\n",
    "        try:\n",
    "            a = torch.load(f\"./new-vanilla-results/{directory}/train/latent/0-{i}.npy\").numpy()\n",
    "            pdf_values = multivariate_normal.logpdf(a, mean=mu, cov=covariance_matrix)\n",
    "            mean.append(pdf_values.mean())\n",
    "        except:\n",
    "            pass\n",
    "    return np.array(mean).mean()\n",
    "\n",
    "def pdf_test2(directory):\n",
    "    mean = []\n",
    "    for i in tqdm(range(10000,15000,1)):\n",
    "        try:\n",
    "            a = torch.load(f\"./new-vanilla-results/{directory}/train/latent/0-{i}.npy\").numpy()\n",
    "            pdf_values = np.power(np.linalg.norm(a, axis=1),2)\n",
    "            mean.append(pdf_values.mean())\n",
    "        except:\n",
    "            pass\n",
    "    return np.array(mean).mean()\n",
    "\n",
    "\n",
    "\n",
    "\n",
    "def pdf_test3(directory):\n",
    "    array = []\n",
    "    for i in tqdm(range(10000,15000,1)):\n",
    "        try:\n",
    "            a = torch.load(f\"./new-vanilla-results/{directory}/train/latent/0-{i}.npy\").numpy()\n",
    "            array.append(a)\n",
    "        except:\n",
    "            pass\n",
    "    final_array = np.array(array)\n",
    "    var_array = np.var(final_array, axis=0)\n",
    "    return var_array.mean()\n",
    "\n",
    "\n",
    "def pdf_test4(directory):\n",
    "    mean = []\n",
    "    for i in tqdm(range(10000,15000,1)):\n",
    "        try:\n",
    "            a = torch.load(f\"./new-vanilla-results/{directory}/train/latent/0-{i}.npy\").numpy()\n",
    "            pdf_values = np.abs(np.power(np.linalg.norm(a, axis=1),2) - 1024 )\n",
    "            mean.append(pdf_values.mean())\n",
    "        except:\n",
    "            pass\n",
    "    return np.array(mean).mean()\n",
    "\n",
    "def pdf_test5(directory):\n",
    "    mean = []\n",
    "    for i in tqdm(range(10000,15000,1)):\n",
    "        try:\n",
    "            a = torch.load(f\"./new-vanilla-results/{directory}/train/latent/0-{i}.npy\").numpy()\n",
    "            mean.append(a)\n",
    "        except:\n",
    "            pass\n",
    "\n",
    "    mean_z = np.array(mean).mean(axis=0)\n",
    "    norm_z = np.linalg.norm(mean_z, axis=1)\n",
    "    return norm_z.mean()\n",
    "\n",
    "def pdf_test6(directory, random_samples):\n",
    "    mean = []\n",
    "    for i in tqdm(range(13000,15000,1)):\n",
    "        try:\n",
    "            a = torch.load(f\"./new-vanilla-results/{directory}/train/latent/0-{i}.npy\").numpy()\n",
    "            mean.append(a)\n",
    "        except:\n",
    "            pass\n",
    "\n",
    "    mean_z = np.concatenate(mean)\n",
    "    tree = BallTree(mean_z)\n",
    "    dist, ind = tree.query(random_samples, k=1)\n",
    "    return dist        \n",
    "\n",
    "def pdf_test_pca(directory):\n",
    "    mean = []\n",
    "    for i in tqdm(range(10000,15000,1)):\n",
    "        try:\n",
    "            a = torch.load(f\"./new-vanilla-results/{directory}/train/latent/0-{i}.npy\").numpy()\n",
    "            mean.append(a)\n",
    "        except:\n",
    "            pass\n",
    "    \n",
    "    mean_z = np.concatenate(mean)\n",
    "    pca = PCA(n_components=2)\n",
    "    pca.fit(mean_z)\n",
    "    tranformed = pca.transform(mean_z)\n",
    "    return tranformed, pca"
   ]
  },
  {
   "cell_type": "code",
   "execution_count": 6,
   "metadata": {},
   "outputs": [
    {
     "name": "stderr",
     "output_type": "stream",
     "text": [
      "100%|██████████| 5000/5000 [00:00<00:00, 34201.30it/s]\n",
      "100%|██████████| 5000/5000 [00:00<00:00, 55765.68it/s]\n",
      "100%|██████████| 5000/5000 [00:00<00:00, 60215.23it/s]\n",
      "100%|██████████| 5000/5000 [00:00<00:00, 45717.57it/s]\n"
     ]
    }
   ],
   "source": [
    "pdf_test_now = pdf_test_pca\n",
    "random_samples = np.random.normal(0,1,(3000,d))\n",
    "\n",
    "og, og_pca = pdf_test_now(\"ffhq-og-no-snoise-10ff\")\n",
    "eps18, eps18_pca = pdf_test_now(\"ffhq-og-no-snoise-10ff-eps-18\")\n",
    "eps15, eps15_pca = pdf_test_now(\"ffhq-og-no-snoise-10ff-eps-15\")\n",
    "eps12, eps12_pca = pdf_test_now(\"ffhq-og-no-snoise-10ff-eps-12\")\n"
   ]
  },
  {
   "cell_type": "code",
   "execution_count": 7,
   "metadata": {},
   "outputs": [
    {
     "name": "stdout",
     "output_type": "stream",
     "text": [
      "[0.00127335 0.00126007] [0.00126225 0.00125993] [0.00126463 0.00125731] [0.00126908 0.0012557 ]\n"
     ]
    }
   ],
   "source": [
    "print(og_pca.explained_variance_ratio_, eps18_pca.explained_variance_ratio_, eps15_pca.explained_variance_ratio_, eps12_pca.explained_variance_ratio_)"
   ]
  },
  {
   "cell_type": "code",
   "execution_count": 8,
   "metadata": {},
   "outputs": [
    {
     "data": {
      "image/png": "[encoded data removed]",
      "text/plain": [
       "<Figure size 432x288 with 1 Axes>"
      ]
     },
     "metadata": {
      "needs_background": "light"
     },
     "output_type": "display_data"
    }
   ],
   "source": [
    "plt.scatter(og[:,0], og[:,1], label=\"og\")\n",
    "plt.scatter(eps18[:,0], eps18[:,1], label=\"eps18\")\n",
    "# plt.scatter(eps15[:,0], eps15[:,1], label=\"eps15\")\n",
    "# plt.scatter(eps12[:,0], eps12[:,1], label=\"eps12\")\n",
    "plt.legend()\n",
    "plt.show()\n"
   ]
  },
  {
   "cell_type": "code",
   "execution_count": 9,
   "metadata": {},
   "outputs": [
    {
     "name": "stderr",
     "output_type": "stream",
     "text": [
      "  0%|          | 0/2000 [00:00<?, ?it/s]"
     ]
    },
    {
     "name": "stderr",
     "output_type": "stream",
     "text": [
      "100%|██████████| 2000/2000 [00:00<00:00, 55305.74it/s]\n"
     ]
    }
   ],
   "source": [
    "pdf_test_now = pdf_test6\n",
    "random_samples = np.random.normal(0,1,(3000,d))\n",
    "\n",
    "og = pdf_test_now(\"ffhq-og-no-snoise-10ff\", random_samples)\n",
    "eps18 = pdf_test_now(\"ffhq-og-no-snoise-10ff-eps-18\", random_samples)\n",
    "eps15 = pdf_test_now(\"ffhq-og-no-snoise-10ff-eps-15\", random_samples)\n",
    "eps12 = pdf_test_now(\"ffhq-og-no-snoise-10ff-eps-12\", random_samples)\n"
   ]
  },
  {
   "cell_type": "code",
   "execution_count": null,
   "metadata": {},
   "outputs": [
    {
     "data": {
      "text/plain": [
       "(array([41.87654564]),\n",
       " array([41.89310766]),\n",
       " array([41.85654228]),\n",
       " array([41.87095356]))"
      ]
     },
     "execution_count": 48,
     "metadata": {},
     "output_type": "execute_result"
    }
   ],
   "source": [
    "np.mean(og,axis=0), np.mean(eps12,axis=0), np.mean(eps15,axis=0), np.mean(eps18,axis=0)"
   ]
  },
  {
   "cell_type": "code",
   "execution_count": null,
   "metadata": {},
   "outputs": [
    {
     "data": {
      "text/plain": [
       "(array([41.8732755]),\n",
       " array([41.89452892]),\n",
       " array([41.86102767]),\n",
       " array([41.87341438]))"
      ]
     },
     "execution_count": 47,
     "metadata": {},
     "output_type": "execute_result"
    }
   ],
   "source": [
    "np.median(og,axis=0), np.median(eps12,axis=0), np.median(eps15,axis=0), np.median(eps18,axis=0)"
   ]
  },
  {
   "cell_type": "code",
   "execution_count": null,
   "metadata": {},
   "outputs": [
    {
     "data": {
      "text/plain": [
       "<matplotlib.legend.Legend at 0x7f42652de040>"
      ]
     },
     "execution_count": 49,
     "metadata": {},
     "output_type": "execute_result"
    },
    {
     "data": {
      "image/png": "[encoded data removed]",
      "text/plain": [
       "<Figure size 432x288 with 1 Axes>"
      ]
     },
     "metadata": {
      "needs_background": "light"
     },
     "output_type": "display_data"
    }
   ],
   "source": [
    "plt.hist(og, bins=100, alpha=0.5, label='og')\n",
    "plt.hist(eps12, bins=100, alpha=0.5, label='eps12')\n",
    "# plt.hist(eps15, bins=100, alpha=0.5, label='eps15')\n",
    "# plt.hist(eps18, bins=100, alpha=0.5, label='eps18')\n",
    "plt.legend(loc='upper right')\n"
   ]
  },
  {
   "cell_type": "code",
   "execution_count": 19,
   "metadata": {},
   "outputs": [],
   "source": [
    "pdf_test_now = pdf_test5"
   ]
  },
  {
   "cell_type": "code",
   "execution_count": 24,
   "metadata": {},
   "outputs": [
    {
     "name": "stderr",
     "output_type": "stream",
     "text": [
      "100%|██████████| 5000/5000 [00:00<00:00, 47581.01it/s]\n"
     ]
    },
    {
     "name": "stdout",
     "output_type": "stream",
     "text": [
      "2.7079334\n"
     ]
    },
    {
     "name": "stderr",
     "output_type": "stream",
     "text": [
      "100%|██████████| 5000/5000 [00:00<00:00, 47619.58it/s]\n"
     ]
    },
    {
     "name": "stdout",
     "output_type": "stream",
     "text": [
      "2.6480572\n"
     ]
    },
    {
     "name": "stderr",
     "output_type": "stream",
     "text": [
      "100%|██████████| 5000/5000 [00:00<00:00, 50835.00it/s]\n"
     ]
    },
    {
     "name": "stdout",
     "output_type": "stream",
     "text": [
      "2.64489\n"
     ]
    },
    {
     "name": "stderr",
     "output_type": "stream",
     "text": [
      "100%|██████████| 5000/5000 [00:00<00:00, 47280.86it/s]"
     ]
    },
    {
     "name": "stdout",
     "output_type": "stream",
     "text": [
      "2.6440024\n"
     ]
    },
    {
     "name": "stderr",
     "output_type": "stream",
     "text": [
      "\n"
     ]
    }
   ],
   "source": [
    "print(pdf_test_now(\"ffhq-og-no-snoise-10ff\"))\n",
    "print(pdf_test_now(\"ffhq-og-no-snoise-10ff-eps-12\"))\n",
    "print(pdf_test_now(\"ffhq-og-no-snoise-10ff-eps-15\"))\n",
    "print(pdf_test_now(\"ffhq-og-no-snoise-10ff-eps-18\"))"
   ]
  }
 ],
 "metadata": {
  "kernelspec": {
   "display_name": "vdimle",
   "language": "python",
   "name": "python3"
  },
  "language_info": {
   "codemirror_mode": {
    "name": "ipython",
    "version": 3
   },
   "file_extension": ".py",
   "mimetype": "text/x-python",
   "name": "python",
   "nbconvert_exporter": "python",
   "pygments_lexer": "ipython3",
   "version": "3.8.12"
  }
 },
 "nbformat": 4,
 "nbformat_minor": 2
}
