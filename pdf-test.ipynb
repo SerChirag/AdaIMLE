{
 "cells": [
  {
   "cell_type": "code",
   "execution_count": 1,
   "metadata": {},
   "outputs": [],
   "source": [
    "import torch\n",
    "from scipy.stats import multivariate_normal\n",
    "import numpy as np\n",
    "from tqdm import tqdm\n",
    "\n",
    "def normalize_2nd_moment(x, dim=1, eps=1e-8):\n",
    "    x = torch.from_numpy(x)\n",
    "    yo = x * (x.square().mean(dim=dim, keepdim=True) + eps).rsqrt()\n",
    "    yo = yo.numpy()\n",
    "    return yo\n",
    "\n"
   ]
  },
  {
   "cell_type": "code",
   "execution_count": 2,
   "metadata": {},
   "outputs": [
    {
     "name": "stdout",
     "output_type": "stream",
     "text": [
      "-1458.4179903784172\n"
     ]
    }
   ],
   "source": [
    "d = 1024\n",
    "mu = np.zeros(d)  # mean\n",
    "covariance_matrix = np.eye(d)  # covariance matrix\n",
    "z = np.random.normal(0,1,(100,d)) # sample\n",
    "pdf_values = multivariate_normal.logpdf(z, mean=mu, cov=covariance_matrix)\n",
    "print(pdf_values.mean())\n"
   ]
  },
  {
   "cell_type": "code",
   "execution_count": 3,
   "metadata": {},
   "outputs": [
    {
     "data": {
      "text/plain": [
       "array([[1., 0., 0., ..., 0., 0., 0.],\n",
       "       [0., 1., 0., ..., 0., 0., 0.],\n",
       "       [0., 0., 1., ..., 0., 0., 0.],\n",
       "       ...,\n",
       "       [0., 0., 0., ..., 1., 0., 0.],\n",
       "       [0., 0., 0., ..., 0., 1., 0.],\n",
       "       [0., 0., 0., ..., 0., 0., 1.]])"
      ]
     },
     "execution_count": 3,
     "metadata": {},
     "output_type": "execute_result"
    }
   ],
   "source": [
    "covariance_matrix"
   ]
  },
  {
   "cell_type": "code",
   "execution_count": 4,
   "metadata": {},
   "outputs": [
    {
     "name": "stdout",
     "output_type": "stream",
     "text": [
      "31.720066\n"
     ]
    }
   ],
   "source": [
    "a = torch.load(\"./new-vanilla-results/ffhq-og-no-snoise-10ff/train/latent/0-0.npy\").numpy()\n",
    "lolo = np.linalg.norm(a, axis=1)\n",
    "print(lolo.mean())"
   ]
  },
  {
   "cell_type": "code",
   "execution_count": 5,
   "metadata": {},
   "outputs": [],
   "source": [
    "def pdf_test(directory):\n",
    "    mean = []\n",
    "    for i in tqdm(range(0,15000,1)):\n",
    "        try:\n",
    "            a = torch.load(f\"./new-vanilla-results/{directory}/train/latent/0-{i}.npy\").numpy()\n",
    "            pdf_values = multivariate_normal.logpdf(a, mean=mu, cov=covariance_matrix)\n",
    "            mean.append(pdf_values.mean())\n",
    "        except:\n",
    "            pass\n",
    "    return np.array(mean).mean()\n",
    "\n",
    "def pdf_test2(directory):\n",
    "    mean = []\n",
    "    for i in tqdm(range(0,15000,1)):\n",
    "        try:\n",
    "            a = torch.load(f\"./new-vanilla-results/{directory}/train/latent/0-{i}.npy\").numpy()\n",
    "            pdf_values = np.power(np.linalg.norm(a, axis=1),2)\n",
    "            mean.append(pdf_values.mean())\n",
    "        except:\n",
    "            pass\n",
    "    return np.array(mean).mean()\n",
    "    "
   ]
  },
  {
   "cell_type": "code",
   "execution_count": 6,
   "metadata": {},
   "outputs": [
    {
     "name": "stderr",
     "output_type": "stream",
     "text": [
      "  0%|          | 0/15000 [00:00<?, ?it/s]"
     ]
    },
    {
     "name": "stderr",
     "output_type": "stream",
     "text": [
      "100%|██████████| 15000/15000 [00:00<00:00, 38798.74it/s]"
     ]
    },
    {
     "name": "stdout",
     "output_type": "stream",
     "text": [
      "1024.0521\n"
     ]
    },
    {
     "name": "stderr",
     "output_type": "stream",
     "text": [
      "\n"
     ]
    }
   ],
   "source": [
    "print(pdf_test2(\"ffhq-og-no-snoise-10ff\"))"
   ]
  },
  {
   "cell_type": "code",
   "execution_count": 7,
   "metadata": {},
   "outputs": [
    {
     "name": "stderr",
     "output_type": "stream",
     "text": [
      "100%|██████████| 15000/15000 [00:00<00:00, 40410.93it/s]"
     ]
    },
    {
     "name": "stdout",
     "output_type": "stream",
     "text": [
      "1023.8495\n"
     ]
    },
    {
     "name": "stderr",
     "output_type": "stream",
     "text": [
      "\n"
     ]
    }
   ],
   "source": [
    "print(pdf_test2(\"ffhq-og-no-snoise-10ff-eps-18\"))"
   ]
  },
  {
   "cell_type": "code",
   "execution_count": 8,
   "metadata": {},
   "outputs": [
    {
     "name": "stderr",
     "output_type": "stream",
     "text": [
      "100%|██████████| 15000/15000 [00:00<00:00, 15524.58it/s]"
     ]
    },
    {
     "name": "stdout",
     "output_type": "stream",
     "text": [
      "1023.92487\n"
     ]
    },
    {
     "name": "stderr",
     "output_type": "stream",
     "text": [
      "\n"
     ]
    }
   ],
   "source": [
    "print(pdf_test2(\"ffhq-og-no-snoise-10ff-eps-15\"))"
   ]
  },
  {
   "cell_type": "code",
   "execution_count": 9,
   "metadata": {},
   "outputs": [
    {
     "name": "stderr",
     "output_type": "stream",
     "text": [
      "100%|██████████| 15000/15000 [00:00<00:00, 36531.42it/s]"
     ]
    },
    {
     "name": "stdout",
     "output_type": "stream",
     "text": [
      "1023.9377\n"
     ]
    },
    {
     "name": "stderr",
     "output_type": "stream",
     "text": [
      "\n"
     ]
    }
   ],
   "source": [
    "print(pdf_test2(\"ffhq-og-no-snoise-10ff-eps-12\"))"
   ]
  },
  {
   "cell_type": "code",
   "execution_count": 10,
   "metadata": {},
   "outputs": [
    {
     "name": "stderr",
     "output_type": "stream",
     "text": [
      "100%|██████████| 15000/15000 [00:00<00:00, 92291.09it/s]"
     ]
    },
    {
     "name": "stdout",
     "output_type": "stream",
     "text": [
      "1024.0272\n"
     ]
    },
    {
     "name": "stderr",
     "output_type": "stream",
     "text": [
      "\n"
     ]
    }
   ],
   "source": [
    "print(pdf_test2(\"ffhq-og-no-snoise-5ff\"))"
   ]
  },
  {
   "cell_type": "code",
   "execution_count": 11,
   "metadata": {},
   "outputs": [
    {
     "name": "stderr",
     "output_type": "stream",
     "text": [
      "100%|██████████| 15000/15000 [00:00<00:00, 47141.17it/s]"
     ]
    },
    {
     "name": "stdout",
     "output_type": "stream",
     "text": [
      "1023.9281\n"
     ]
    },
    {
     "name": "stderr",
     "output_type": "stream",
     "text": [
      "\n"
     ]
    }
   ],
   "source": [
    "print(pdf_test2(\"ffhq-og-no-snoise-20ff-2nd-normalized\"))"
   ]
  }
 ],
 "metadata": {
  "kernelspec": {
   "display_name": "vdimle",
   "language": "python",
   "name": "python3"
  },
  "language_info": {
   "codemirror_mode": {
    "name": "ipython",
    "version": 3
   },
   "file_extension": ".py",
   "mimetype": "text/x-python",
   "name": "python",
   "nbconvert_exporter": "python",
   "pygments_lexer": "ipython3",
   "version": "3.8.12"
  }
 },
 "nbformat": 4,
 "nbformat_minor": 2
}
